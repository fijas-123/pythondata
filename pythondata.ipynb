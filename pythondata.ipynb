{
 "cells": [
  {
   "cell_type": "code",
   "execution_count": null,
   "id": "55cd4d0f-4840-4289-8f85-e6a4303aca83",
   "metadata": {},
   "outputs": [],
   "source": [
    "#1-explain the key features of Python that make it a popular choice for programmimg \n",
    "\n",
    "#python is a programming language with capability  of high level, general purpose programming language found by Guido van rossum\n",
    "#one of key features of python is object-oriented programming .\n",
    "#fearures :-\n",
    "#1)-easy to learn like literature type and also easy to implement\n",
    "#2)-comparably speed with regular type\n",
    "#3)-python has highly adopted by various industried because for relable and easy advance method\n",
    "#4)-python has high flexibility and connectivity comparably so it make high adoptation and use in variour industries\n",
    "#5-python is matured in nature \n",
    "#6)-python is sensitive type in cases and steps\n"
   ]
  },
  {
   "cell_type": "code",
   "execution_count": null,
   "id": "63646e50-644c-47fa-aa01-eb03ef6e98a2",
   "metadata": {},
   "outputs": [],
   "source": [
    "#2-Describe the role of predefined keywords in Python and provide examples of how they are used in a program \n",
    "\n",
    "\n",
    "#Keywords are predefined, reserved words used in Python programming that have special meanings to the compiler.\n",
    "#We cannot use a keyword as a variable name, function name, or any other identifier.\n",
    "#They are used to define the syntax and structure of the Python language.\n",
    "#All the keywords except True, False and None are in lowercase and they must be written as they are\n",
    "#example>> False,await,else,if.elif,continue,break,from,yeild ...etc"
   ]
  },
  {
   "cell_type": "code",
   "execution_count": 1,
   "id": "5c920497-73af-4525-a73e-e1a3940caa2e",
   "metadata": {},
   "outputs": [
    {
     "name": "stdout",
     "output_type": "stream",
     "text": [
      "1\n",
      "2\n",
      "3\n",
      "4\n"
     ]
    }
   ],
   "source": [
    "for i in [1,2,3,4]:\n",
    "    print (i)"
   ]
  },
  {
   "cell_type": "code",
   "execution_count": null,
   "id": "9ee0b0dd-c2cf-45f2-977e-3cf1460eb176",
   "metadata": {},
   "outputs": [],
   "source": [
    "def func():\n",
    "    print(\"this is my first function\")\n",
    "\n",
    "func()"
   ]
  },
  {
   "cell_type": "code",
   "execution_count": null,
   "id": "a241fd11-372f-4fb6-bc92-7b7301f12125",
   "metadata": {},
   "outputs": [],
   "source": [
    "#3 Compare and contrast mutable and immutable objects in Python with examples\n",
    "\n",
    "\n",
    "#In Python, Every variable in Python holds an instance of an object.\n",
    "#There are two types of objects in Python i.e. Mutable and Immutable objects.\n",
    "#Whenever an object is instantiated, it is assigned a unique object id. \n",
    "#The type of the object is defined at the runtime and it can’t be changed afterward. However,\n",
    "#its state can be changed if it is a mutable object."
   ]
  },
  {
   "cell_type": "code",
   "execution_count": null,
   "id": "45857753-f502-4353-ad7f-28d086591070",
   "metadata": {},
   "outputs": [],
   "source": [
    "str1=\"hello world\"\n",
    "str"
   ]
  },
  {
   "cell_type": "code",
   "execution_count": 1,
   "id": "abed556b-393a-4105-98c3-9f80b7baf9fc",
   "metadata": {},
   "outputs": [],
   "source": [
    "#3)-for mutable object\n",
    "s={1,2,3,5}"
   ]
  },
  {
   "cell_type": "code",
   "execution_count": 2,
   "id": "934f7734-f61f-4ea5-a6b2-cd8215fcd439",
   "metadata": {},
   "outputs": [
    {
     "name": "stdout",
     "output_type": "stream",
     "text": [
      "1\n",
      "2\n",
      "3\n",
      "5\n"
     ]
    }
   ],
   "source": [
    "for i in s:\n",
    "    print(i)"
   ]
  },
  {
   "cell_type": "code",
   "execution_count": 3,
   "id": "2f3dae44-ce9f-4fa3-a540-9b539b22fad4",
   "metadata": {},
   "outputs": [],
   "source": [
    "s.add(\"fijas\")"
   ]
  },
  {
   "cell_type": "code",
   "execution_count": 4,
   "id": "703cf85f-b2e9-43da-9727-df8de28b7c52",
   "metadata": {},
   "outputs": [
    {
     "data": {
      "text/plain": [
       "{1, 2, 3, 5, 'fijas'}"
      ]
     },
     "execution_count": 4,
     "metadata": {},
     "output_type": "execute_result"
    }
   ],
   "source": [
    "s"
   ]
  },
  {
   "cell_type": "code",
   "execution_count": 5,
   "id": "1973d39c-d267-4ed6-8b1e-e47c29c2e155",
   "metadata": {},
   "outputs": [],
   "source": [
    "#4)- mutable object\n",
    "d={\"name\":\"fijas\",\"num\":7994918646,\"email\":\"fijadmuhammed@gamil.com\"}"
   ]
  },
  {
   "cell_type": "code",
   "execution_count": 6,
   "id": "3369b5d3-ce4a-4e1e-abc6-2bcd953e0ad2",
   "metadata": {},
   "outputs": [
    {
     "data": {
      "text/plain": [
       "'fijas'"
      ]
     },
     "execution_count": 6,
     "metadata": {},
     "output_type": "execute_result"
    }
   ],
   "source": [
    "d[\"name\"]"
   ]
  },
  {
   "cell_type": "code",
   "execution_count": 7,
   "id": "92b0bd91-f416-42fc-8dc3-7685c9e7f2cd",
   "metadata": {},
   "outputs": [],
   "source": [
    "d[\"name\"]=\"fayis\""
   ]
  },
  {
   "cell_type": "code",
   "execution_count": 8,
   "id": "5f9e28a7-ca2c-4347-9a05-1dad1d5e4371",
   "metadata": {},
   "outputs": [
    {
     "data": {
      "text/plain": [
       "{'name': 'fayis', 'num': 7994918646, 'email': 'fijadmuhammed@gamil.com'}"
      ]
     },
     "execution_count": 8,
     "metadata": {},
     "output_type": "execute_result"
    }
   ],
   "source": [
    "d"
   ]
  },
  {
   "cell_type": "code",
   "execution_count": 9,
   "id": "d438ce53-b55a-4028-b2ae-dbedf9df5607",
   "metadata": {},
   "outputs": [
    {
     "data": {
      "text/plain": [
       "3"
      ]
     },
     "execution_count": 9,
     "metadata": {},
     "output_type": "execute_result"
    }
   ],
   "source": [
    "#4.Discuss the different types of operators in Python and provide examples of how they are used\n",
    "\n",
    "#Types of Python Operators\n",
    "#Here's a list of different types of Python operators that we will learn in this tutorial.\n",
    "#Arithmetic Operators\n",
    "#Assignment Operators\n",
    "#Comparison Operators\n",
    "#Logical Operators\n",
    "#Bitwise Operators\n",
    "#Special Operators\n",
    "\n",
    "#examples:-\n",
    "#1-Arithmetic Operators\n",
    "1+2"
   ]
  },
  {
   "cell_type": "code",
   "execution_count": 29,
   "id": "e26040ba-44de-40f8-bb98-daa83786a19b",
   "metadata": {},
   "outputs": [
    {
     "data": {
      "text/plain": [
       "44"
      ]
     },
     "execution_count": 29,
     "metadata": {},
     "output_type": "execute_result"
    }
   ],
   "source": [
    "a=100\n",
    "b=56\n",
    "a-b"
   ]
  },
  {
   "cell_type": "code",
   "execution_count": 30,
   "id": "2ed0eb22-d9fc-4326-b959-bd1e7d0e0ce8",
   "metadata": {},
   "outputs": [
    {
     "data": {
      "text/plain": [
       "1.7857142857142858"
      ]
     },
     "execution_count": 30,
     "metadata": {},
     "output_type": "execute_result"
    }
   ],
   "source": [
    "a/b"
   ]
  },
  {
   "cell_type": "code",
   "execution_count": 31,
   "id": "9f317816-1e87-4411-bc96-6516530e6b71",
   "metadata": {},
   "outputs": [
    {
     "data": {
      "text/plain": [
       "5600"
      ]
     },
     "execution_count": 31,
     "metadata": {},
     "output_type": "execute_result"
    }
   ],
   "source": [
    "a*b"
   ]
  },
  {
   "cell_type": "code",
   "execution_count": 32,
   "id": "975304f1-398b-49ed-9501-5a8a0c57217b",
   "metadata": {},
   "outputs": [
    {
     "data": {
      "text/plain": [
       "10000000000000000000000000000000000000000000000000000000000000000000000000000000000000000000000000000000000000000"
      ]
     },
     "execution_count": 32,
     "metadata": {},
     "output_type": "execute_result"
    }
   ],
   "source": [
    "a**b"
   ]
  },
  {
   "cell_type": "code",
   "execution_count": 33,
   "id": "7f68dd1a-5b34-4fe3-b7e2-cc16ba88fe30",
   "metadata": {},
   "outputs": [
    {
     "data": {
      "text/plain": [
       "1"
      ]
     },
     "execution_count": 33,
     "metadata": {},
     "output_type": "execute_result"
    }
   ],
   "source": [
    "a//b"
   ]
  },
  {
   "cell_type": "code",
   "execution_count": 34,
   "id": "5dfe6ad6-6320-4d7e-a65a-30a9e31e4088",
   "metadata": {},
   "outputs": [],
   "source": [
    "#2-Assignment Operators\n",
    "a+=5 #>>assignment operator"
   ]
  },
  {
   "cell_type": "code",
   "execution_count": 35,
   "id": "b7f46a03-2488-422a-ac39-d7257e4b7e87",
   "metadata": {},
   "outputs": [
    {
     "data": {
      "text/plain": [
       "105"
      ]
     },
     "execution_count": 35,
     "metadata": {},
     "output_type": "execute_result"
    }
   ],
   "source": [
    "a"
   ]
  },
  {
   "cell_type": "code",
   "execution_count": 36,
   "id": "d36749ca-150e-4291-afcb-86b658f6f32d",
   "metadata": {},
   "outputs": [],
   "source": [
    "a **= 10 #>> exonend assingment"
   ]
  },
  {
   "cell_type": "code",
   "execution_count": 37,
   "id": "29f7dbe7-e18f-471f-9aa0-b0b4dfaccafb",
   "metadata": {},
   "outputs": [
    {
     "data": {
      "text/plain": [
       "162889462677744140625"
      ]
     },
     "execution_count": 37,
     "metadata": {},
     "output_type": "execute_result"
    }
   ],
   "source": [
    "a"
   ]
  },
  {
   "cell_type": "code",
   "execution_count": 38,
   "id": "a3bd2cb1-51b0-4bfe-bfda-54627be77eca",
   "metadata": {},
   "outputs": [],
   "source": [
    "# Comparison Operators\n",
    "a=1000\n",
    "b=2000"
   ]
  },
  {
   "cell_type": "code",
   "execution_count": 39,
   "id": "f1e237cb-8a55-469f-b828-6fc94a264861",
   "metadata": {},
   "outputs": [
    {
     "data": {
      "text/plain": [
       "False"
      ]
     },
     "execution_count": 39,
     "metadata": {},
     "output_type": "execute_result"
    }
   ],
   "source": [
    "a==b"
   ]
  },
  {
   "cell_type": "code",
   "execution_count": 40,
   "id": "c0634193-1770-41ea-b533-c970a7cdfd93",
   "metadata": {},
   "outputs": [
    {
     "data": {
      "text/plain": [
       "False"
      ]
     },
     "execution_count": 40,
     "metadata": {},
     "output_type": "execute_result"
    }
   ],
   "source": [
    "a>b"
   ]
  },
  {
   "cell_type": "code",
   "execution_count": 41,
   "id": "8552c867-ebdf-4fd3-8d9b-cf6cd3fd7859",
   "metadata": {},
   "outputs": [
    {
     "data": {
      "text/plain": [
       "True"
      ]
     },
     "execution_count": 41,
     "metadata": {},
     "output_type": "execute_result"
    }
   ],
   "source": [
    "a<b"
   ]
  },
  {
   "cell_type": "code",
   "execution_count": 42,
   "id": "9e039030-d268-4654-a474-21c5c27d60e9",
   "metadata": {},
   "outputs": [
    {
     "data": {
      "text/plain": [
       "True"
      ]
     },
     "execution_count": 42,
     "metadata": {},
     "output_type": "execute_result"
    }
   ],
   "source": [
    "a!=b"
   ]
  },
  {
   "cell_type": "code",
   "execution_count": 43,
   "id": "07ac2ab5-3e6e-4353-8028-54817a64f6ce",
   "metadata": {},
   "outputs": [
    {
     "data": {
      "text/plain": [
       "10"
      ]
     },
     "execution_count": 43,
     "metadata": {},
     "output_type": "execute_result"
    }
   ],
   "source": [
    "#Bitwise operators\n",
    "10&10 #>> bitwiseAND"
   ]
  },
  {
   "cell_type": "code",
   "execution_count": 44,
   "id": "55026e59-c0f2-4d55-b6d7-d48c6e20fd11",
   "metadata": {},
   "outputs": [
    {
     "data": {
      "text/plain": [
       "'0b1010'"
      ]
     },
     "execution_count": 44,
     "metadata": {},
     "output_type": "execute_result"
    }
   ],
   "source": [
    "bin(10)"
   ]
  },
  {
   "cell_type": "code",
   "execution_count": 45,
   "id": "5bcbd12f-2b5d-44ca-9e5b-df634d1129ad",
   "metadata": {},
   "outputs": [
    {
     "data": {
      "text/plain": [
       "6"
      ]
     },
     "execution_count": 45,
     "metadata": {},
     "output_type": "execute_result"
    }
   ],
   "source": [
    "#>>bitwiseXOR\n",
    "5^3"
   ]
  },
  {
   "cell_type": "code",
   "execution_count": 46,
   "id": "90724e5e-27ad-42d4-b774-5fa0cb074e1b",
   "metadata": {},
   "outputs": [],
   "source": [
    "#5)- explain the concept of type casting in Python with examples.\n",
    "\n",
    "#Type Casting is the method to convert the Python variable datatype into a certain data type in order to perform the required operation by users.\n",
    "#and the process of changing the data typr of a value/object and would help  while executing-\n",
    "#/computation using operator there cabn be mismatch between data\n",
    "#there two type of the casting\n",
    "#1-implicit type casting\n",
    "#2-explicit type casting"
   ]
  },
  {
   "cell_type": "code",
   "execution_count": 47,
   "id": "df003a78-cd22-4837-97a8-24de5246dc9d",
   "metadata": {},
   "outputs": [],
   "source": [
    "a=\"5\"\n",
    "b=6"
   ]
  },
  {
   "cell_type": "code",
   "execution_count": 48,
   "id": "1b8e757a-6d46-4d1c-af2d-35a409ab1c5b",
   "metadata": {},
   "outputs": [
    {
     "data": {
      "text/plain": [
       "str"
      ]
     },
     "execution_count": 48,
     "metadata": {},
     "output_type": "execute_result"
    }
   ],
   "source": [
    "type(a)"
   ]
  },
  {
   "cell_type": "code",
   "execution_count": 49,
   "id": "6322e6f4-1bc9-4925-bbfc-61681b28354b",
   "metadata": {},
   "outputs": [
    {
     "data": {
      "text/plain": [
       "int"
      ]
     },
     "execution_count": 49,
     "metadata": {},
     "output_type": "execute_result"
    }
   ],
   "source": [
    "type(b)"
   ]
  },
  {
   "cell_type": "code",
   "execution_count": 50,
   "id": "da65a83a-e48c-4bff-8cdc-4c3afda500e8",
   "metadata": {},
   "outputs": [
    {
     "data": {
      "text/plain": [
       "int"
      ]
     },
     "execution_count": 50,
     "metadata": {},
     "output_type": "execute_result"
    }
   ],
   "source": [
    "type(int(a))"
   ]
  },
  {
   "cell_type": "code",
   "execution_count": 51,
   "id": "6df0f817-5fef-4adf-bd87-493fe0f644cf",
   "metadata": {},
   "outputs": [],
   "source": [
    "b=float(b)"
   ]
  },
  {
   "cell_type": "code",
   "execution_count": 52,
   "id": "d7e04b4c-6099-4cff-963f-2f3f0ec1b1fe",
   "metadata": {},
   "outputs": [
    {
     "data": {
      "text/plain": [
       "6.0"
      ]
     },
     "execution_count": 52,
     "metadata": {},
     "output_type": "execute_result"
    }
   ],
   "source": [
    "b"
   ]
  },
  {
   "cell_type": "code",
   "execution_count": 53,
   "id": "ee6095bc-c93c-40a4-a407-21f22067c937",
   "metadata": {},
   "outputs": [],
   "source": [
    "#1>> implicit type casting\n",
    "\n",
    "#python wound understand the dat type it's own\n",
    "a=2\n",
    "b=\"hello\""
   ]
  },
  {
   "cell_type": "code",
   "execution_count": 54,
   "id": "b9985c5d-22c3-4e9e-9cd4-c8ca80a2a87c",
   "metadata": {},
   "outputs": [
    {
     "data": {
      "text/plain": [
       "int"
      ]
     },
     "execution_count": 54,
     "metadata": {},
     "output_type": "execute_result"
    }
   ],
   "source": [
    "type(a)"
   ]
  },
  {
   "cell_type": "code",
   "execution_count": 55,
   "id": "41f90d69-4380-4000-9cd9-e42b07eb3293",
   "metadata": {},
   "outputs": [
    {
     "data": {
      "text/plain": [
       "str"
      ]
     },
     "execution_count": 55,
     "metadata": {},
     "output_type": "execute_result"
    }
   ],
   "source": [
    "type(b)"
   ]
  },
  {
   "cell_type": "code",
   "execution_count": 56,
   "id": "d03488c1-c27a-4194-806d-cc0545e49c2c",
   "metadata": {},
   "outputs": [],
   "source": [
    "a=2\n",
    "b=5.2"
   ]
  },
  {
   "cell_type": "code",
   "execution_count": 57,
   "id": "da2740db-e051-4cdb-bc1d-f1253d5b9b8c",
   "metadata": {},
   "outputs": [
    {
     "data": {
      "text/plain": [
       "7.2"
      ]
     },
     "execution_count": 57,
     "metadata": {},
     "output_type": "execute_result"
    }
   ],
   "source": [
    "a+b"
   ]
  },
  {
   "cell_type": "code",
   "execution_count": 61,
   "id": "a782a042-c6a0-4bae-a6f8-81d9f122eaa4",
   "metadata": {},
   "outputs": [],
   "source": [
    "a=1\n",
    "b=\"hello\""
   ]
  },
  {
   "cell_type": "code",
   "execution_count": 62,
   "id": "01ebd5a3-8856-4482-9e03-389b3783bf56",
   "metadata": {},
   "outputs": [
    {
     "ename": "TypeError",
     "evalue": "unsupported operand type(s) for +: 'int' and 'str'",
     "output_type": "error",
     "traceback": [
      "\u001b[0;31m---------------------------------------------------------------------------\u001b[0m",
      "\u001b[0;31mTypeError\u001b[0m                                 Traceback (most recent call last)",
      "Cell \u001b[0;32mIn[62], line 1\u001b[0m\n\u001b[0;32m----> 1\u001b[0m \u001b[43ma\u001b[49m\u001b[38;5;241;43m+\u001b[39;49m\u001b[43mb\u001b[49m\n",
      "\u001b[0;31mTypeError\u001b[0m: unsupported operand type(s) for +: 'int' and 'str'"
     ]
    }
   ],
   "source": [
    "a+b"
   ]
  },
  {
   "cell_type": "code",
   "execution_count": 59,
   "id": "72fefe49-52ed-4ccc-bc98-601bd2d88453",
   "metadata": {},
   "outputs": [],
   "source": [
    "#2>> implicit type casting\n",
    "#There are some cases where if the datatype remains unchanged,\n",
    "#it can give incorrect output"
   ]
  },
  {
   "cell_type": "code",
   "execution_count": 63,
   "id": "472184a9-71e5-4060-923d-7a267c65555f",
   "metadata": {},
   "outputs": [],
   "source": [
    "a=1\n",
    "b=\"hello\""
   ]
  },
  {
   "cell_type": "code",
   "execution_count": 64,
   "id": "279e8fed-49b7-4d41-a118-a58176bd103d",
   "metadata": {},
   "outputs": [
    {
     "ename": "TypeError",
     "evalue": "unsupported operand type(s) for +: 'int' and 'str'",
     "output_type": "error",
     "traceback": [
      "\u001b[0;31m---------------------------------------------------------------------------\u001b[0m",
      "\u001b[0;31mTypeError\u001b[0m                                 Traceback (most recent call last)",
      "Cell \u001b[0;32mIn[64], line 1\u001b[0m\n\u001b[0;32m----> 1\u001b[0m \u001b[43ma\u001b[49m\u001b[38;5;241;43m+\u001b[39;49m\u001b[43mb\u001b[49m\n",
      "\u001b[0;31mTypeError\u001b[0m: unsupported operand type(s) for +: 'int' and 'str'"
     ]
    }
   ],
   "source": [
    "a+b"
   ]
  },
  {
   "cell_type": "code",
   "execution_count": 67,
   "id": "500930c2-9e8b-4ee1-b011-7766448f4040",
   "metadata": {},
   "outputs": [],
   "source": [
    "a=\"1\"\n",
    "b=\" baby\""
   ]
  },
  {
   "cell_type": "code",
   "execution_count": 68,
   "id": "aa1ab1c1-1bbd-4997-8e99-6d1f6c578221",
   "metadata": {},
   "outputs": [
    {
     "data": {
      "text/plain": [
       "'1 baby'"
      ]
     },
     "execution_count": 68,
     "metadata": {},
     "output_type": "execute_result"
    }
   ],
   "source": [
    "a+b"
   ]
  },
  {
   "cell_type": "code",
   "execution_count": 69,
   "id": "5f8f8a1b-4d17-4396-9d4d-9d2852c0b810",
   "metadata": {},
   "outputs": [],
   "source": [
    "#6- How do conditional statements work in Python? Illustrate with examples.\n",
    "\n",
    "#Conditional Statements are statements in Python that provide a choice for the control flow based on a condition.\n",
    "#It means that the control flow of the Python program will be decided based on the outcome of the condition.\n",
    "\n",
    "#Types of Conditional Statements in Python\n",
    "#1>>if conditional statement\n",
    "#2>>if-else conditional statement\n",
    "#3>>nested if-else conditional statement\n",
    "#4>>if-elif-else"
   ]
  },
  {
   "cell_type": "code",
   "execution_count": 70,
   "id": "239073b6-d9ff-4d8c-86ff-9599b1a71c32",
   "metadata": {},
   "outputs": [
    {
     "name": "stdout",
     "output_type": "stream",
     "text": [
      "you won\n"
     ]
    }
   ],
   "source": [
    "#if condition\n",
    "a=1000\n",
    "if a>500:\n",
    "    print(\"you won\")"
   ]
  },
  {
   "cell_type": "code",
   "execution_count": 71,
   "id": "d5e33a4e-6bd1-43fb-9795-438567ad2ea7",
   "metadata": {},
   "outputs": [
    {
     "name": "stdout",
     "output_type": "stream",
     "text": [
      "odd\n"
     ]
    }
   ],
   "source": [
    "#if-else condition\n",
    "num=3\n",
    "if num%2==0:\n",
    "    print(\"even\")\n",
    "else:\n",
    "    print(\"odd\")"
   ]
  },
  {
   "cell_type": "code",
   "execution_count": 72,
   "id": "339286b0-c2b1-4e2e-9ff7-d987187e0201",
   "metadata": {},
   "outputs": [
    {
     "name": "stdout",
     "output_type": "stream",
     "text": [
      "x is not greater than 5\n"
     ]
    }
   ],
   "source": [
    "#nested-if-else\n",
    "x=10\n",
    "y=20\n",
    "if x>y:\n",
    "    if y>5:\n",
    "        print(\"both x and y fine\")\n",
    "    else:\n",
    "        print(\"x is greater than y  but y is not greater than 5 \")\n",
    "else:\n",
    "    print(\"x is not greater than 5\")\n",
    "    "
   ]
  },
  {
   "cell_type": "code",
   "execution_count": 75,
   "id": "b1b9069c-bb8a-4e06-9d9c-90e0116932ab",
   "metadata": {},
   "outputs": [
    {
     "name": "stdout",
     "output_type": "stream",
     "text": [
      "not executed\n"
     ]
    }
   ],
   "source": [
    "#elif\n",
    "a=10\n",
    "if a>100:\n",
    "    print(\"executed\")\n",
    "elif a<100:\n",
    "    print(\"not executed\")\n",
    "else:\n",
    "    print(\"the num=100\")\n"
   ]
  },
  {
   "cell_type": "code",
   "execution_count": 76,
   "id": "0abc7f87-1575-44f2-b84b-4582596d7562",
   "metadata": {},
   "outputs": [
    {
     "name": "stdout",
     "output_type": "stream",
     "text": [
      "1\n",
      "2\n",
      "3\n",
      "4\n",
      "5\n",
      "6\n",
      "enough\n"
     ]
    }
   ],
   "source": [
    "#7)-Describe the different types of loops in Python and their use cases with examples.\n",
    "\n",
    "#In Python, a while loop is used to execute a block of statements repeatedly until a given condition is satisfied.\n",
    "#When the condition becomes false, the line immediately after the loop in the program is executed.\n",
    "#there is two type of loop statement give in python\n",
    "#1-while loop\n",
    "#2-for loop\n",
    "\n",
    "#case exapmles\n",
    "#1-while loop\n",
    "n=7\n",
    "i=1\n",
    "while i<n:\n",
    "    print(i)\n",
    "    i=i+1\n",
    "else:\n",
    "    print(\"enough\")"
   ]
  },
  {
   "cell_type": "code",
   "execution_count": 77,
   "id": "6ca1e89a-091f-48e6-80ec-9fdcfbc91a6e",
   "metadata": {},
   "outputs": [
    {
     "name": "stdout",
     "output_type": "stream",
     "text": [
      "1\n",
      "2\n",
      "3\n"
     ]
    }
   ],
   "source": [
    "n=7\n",
    "i=1\n",
    "while i<n:\n",
    "    print(i)\n",
    "    i=i+1\n",
    "    if i==4:\n",
    "        break\n"
   ]
  },
  {
   "cell_type": "code",
   "execution_count": 78,
   "id": "1b05af27-7543-4861-8e33-da02985ea75f",
   "metadata": {},
   "outputs": [
    {
     "name": "stdout",
     "output_type": "stream",
     "text": [
      "{'name': 'fijas', 'num': 7994918646}\n",
      "{'email': 'fijadmuhammed@gamil.com'}\n"
     ]
    }
   ],
   "source": [
    "#2-for loop\n",
    "\n",
    "for i in [{\"name\":\"fijas\",\"num\":7994918646},{\"email\":\"fijadmuhammed@gamil.com\"}]:\n",
    "    print(i)"
   ]
  },
  {
   "cell_type": "code",
   "execution_count": null,
   "id": "85964b60-5d4b-4cbc-b4ad-70e7c973ef6f",
   "metadata": {},
   "outputs": [],
   "source": []
  }
 ],
 "metadata": {
  "kernelspec": {
   "display_name": "Python 3 (ipykernel)",
   "language": "python",
   "name": "python3"
  },
  "language_info": {
   "codemirror_mode": {
    "name": "ipython",
    "version": 3
   },
   "file_extension": ".py",
   "mimetype": "text/x-python",
   "name": "python",
   "nbconvert_exporter": "python",
   "pygments_lexer": "ipython3",
   "version": "3.10.8"
  }
 },
 "nbformat": 4,
 "nbformat_minor": 5
}
