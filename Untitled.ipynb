{
 "cells": [
  {
   "cell_type": "code",
   "execution_count": null,
   "id": "55cd4d0f-4840-4289-8f85-e6a4303aca83",
   "metadata": {},
   "outputs": [],
   "source": [
    "#1-explain the key features of Python that make it a popular choice for programmimg \n",
    "\n",
    "#python is a programming language with capability  of high level, general purpose programming language found by Guido van rossum\n",
    "#one of key features of python is object-oriented programming .\n",
    "#fearures :-\n",
    "#1)-easy to learn like literature type and also easy to implement\n",
    "#2)-comparably speed with regular type\n",
    "#3)-python has highly adopted by various industried because for relable and easy advance method\n",
    "#4)-python has high flexibility and connectivity comparably so it make high adoptation and use in variour industries\n",
    "#5-python is matured in nature \n",
    "#6)-python is sensitive type in cases and steps\n"
   ]
  },
  {
   "cell_type": "code",
   "execution_count": null,
   "id": "63646e50-644c-47fa-aa01-eb03ef6e98a2",
   "metadata": {},
   "outputs": [],
   "source": [
    "#32-Describe the role of predefined keywords in Python and provide examples of how they are used in a program \n",
    "\n",
    "\n",
    "#Keywords are predefined, reserved words used in Python programming that have special meanings to the compiler.\n",
    "#We cannot use a keyword as a variable name, function name, or any other identifier.\n",
    "#They are used to define the syntax and structure of the Python language.\n",
    "#All the keywords except True, False and None are in lowercase and they must be written as they are\n",
    "#example>> False,await,else,if.elif,continue,break,from,yeild ...etc"
   ]
  },
  {
   "cell_type": "code",
   "execution_count": 1,
   "id": "5c920497-73af-4525-a73e-e1a3940caa2e",
   "metadata": {},
   "outputs": [
    {
     "name": "stdout",
     "output_type": "stream",
     "text": [
      "1\n",
      "2\n",
      "3\n",
      "4\n"
     ]
    }
   ],
   "source": [
    "for i in [1,2,3,4]:\n",
    "    print (i)"
   ]
  },
  {
   "cell_type": "code",
   "execution_count": null,
   "id": "9ee0b0dd-c2cf-45f2-977e-3cf1460eb176",
   "metadata": {},
   "outputs": [],
   "source": [
    "def func():\n",
    "    print(\"this is my first function\")\n",
    "\n",
    "func()"
   ]
  },
  {
   "cell_type": "code",
   "execution_count": null,
   "id": "a241fd11-372f-4fb6-bc92-7b7301f12125",
   "metadata": {},
   "outputs": [],
   "source": [
    "#3 Compare and contrast mutable and immutable objects in Python with examples\n",
    "\n",
    "\n",
    "#In Python, Every variable in Python holds an instance of an object.\n",
    "#There are two types of objects in Python i.e. Mutable and Immutable objects.\n",
    "#Whenever an object is instantiated, it is assigned a unique object id. \n",
    "#The type of the object is defined at the runtime and it can’t be changed afterward. However,\n",
    "#its state can be changed if it is a mutable object."
   ]
  },
  {
   "cell_type": "code",
   "execution_count": 2,
   "id": "45857753-f502-4353-ad7f-28d086591070",
   "metadata": {},
   "outputs": [
    {
     "data": {
      "text/plain": [
       "'hello world'"
      ]
     },
     "execution_count": 2,
     "metadata": {},
     "output_type": "execute_result"
    }
   ],
   "source": [
    "str1=\"hello world\"\n",
    "str1"
   ]
  },
  {
   "cell_type": "code",
   "execution_count": 3,
   "id": "abed556b-393a-4105-98c3-9f80b7baf9fc",
   "metadata": {},
   "outputs": [
    {
     "ename": "TypeError",
     "evalue": "'str' object does not support item assignment",
     "output_type": "error",
     "traceback": [
      "\u001b[0;31m---------------------------------------------------------------------------\u001b[0m",
      "\u001b[0;31mTypeError\u001b[0m                                 Traceback (most recent call last)",
      "Cell \u001b[0;32mIn[3], line 1\u001b[0m\n\u001b[0;32m----> 1\u001b[0m \u001b[43mstr1\u001b[49m\u001b[43m[\u001b[49m\u001b[38;5;241;43m0\u001b[39;49m\u001b[43m]\u001b[49m\u001b[38;5;241m=\u001b[39m\u001b[38;5;124m\"\u001b[39m\u001b[38;5;124mhello dear\u001b[39m\u001b[38;5;124m\"\u001b[39m\n",
      "\u001b[0;31mTypeError\u001b[0m: 'str' object does not support item assignment"
     ]
    }
   ],
   "source": [
    "str1[0]=\"hello dear\""
   ]
  },
  {
   "cell_type": "code",
   "execution_count": 4,
   "id": "934f7734-f61f-4ea5-a6b2-cd8215fcd439",
   "metadata": {},
   "outputs": [],
   "source": [
    "#2)- immutable object\n",
    "t=(\"fijas\",\"fayis\",\"fazil\",1,2,2.2,)"
   ]
  },
  {
   "cell_type": "code",
   "execution_count": 5,
   "id": "2f3dae44-ce9f-4fa3-a540-9b539b22fad4",
   "metadata": {},
   "outputs": [
    {
     "ename": "TypeError",
     "evalue": "'tuple' object does not support item assignment",
     "output_type": "error",
     "traceback": [
      "\u001b[0;31m---------------------------------------------------------------------------\u001b[0m",
      "\u001b[0;31mTypeError\u001b[0m                                 Traceback (most recent call last)",
      "Cell \u001b[0;32mIn[5], line 1\u001b[0m\n\u001b[0;32m----> 1\u001b[0m \u001b[43mt\u001b[49m\u001b[43m[\u001b[49m\u001b[38;5;241;43m1\u001b[39;49m\u001b[43m]\u001b[49m\u001b[38;5;241m=\u001b[39m\u001b[38;5;241m200\u001b[39m\n",
      "\u001b[0;31mTypeError\u001b[0m: 'tuple' object does not support item assignment"
     ]
    }
   ],
   "source": [
    "t[1]=200"
   ]
  },
  {
   "cell_type": "code",
   "execution_count": null,
   "id": "703cf85f-b2e9-43da-9727-df8de28b7c52",
   "metadata": {},
   "outputs": [],
   "source": []
  },
  {
   "cell_type": "code",
   "execution_count": null,
   "id": "1973d39c-d267-4ed6-8b1e-e47c29c2e155",
   "metadata": {},
   "outputs": [],
   "source": []
  },
  {
   "cell_type": "code",
   "execution_count": null,
   "id": "3369b5d3-ce4a-4e1e-abc6-2bcd953e0ad2",
   "metadata": {},
   "outputs": [],
   "source": []
  },
  {
   "cell_type": "code",
   "execution_count": null,
   "id": "92b0bd91-f416-42fc-8dc3-7685c9e7f2cd",
   "metadata": {},
   "outputs": [],
   "source": []
  },
  {
   "cell_type": "code",
   "execution_count": null,
   "id": "5f9e28a7-ca2c-4347-9a05-1dad1d5e4371",
   "metadata": {},
   "outputs": [],
   "source": []
  },
  {
   "cell_type": "code",
   "execution_count": null,
   "id": "d438ce53-b55a-4028-b2ae-dbedf9df5607",
   "metadata": {},
   "outputs": [],
   "source": []
  },
  {
   "cell_type": "code",
   "execution_count": null,
   "id": "e26040ba-44de-40f8-bb98-daa83786a19b",
   "metadata": {},
   "outputs": [],
   "source": []
  },
  {
   "cell_type": "code",
   "execution_count": null,
   "id": "2ed0eb22-d9fc-4326-b959-bd1e7d0e0ce8",
   "metadata": {},
   "outputs": [],
   "source": []
  },
  {
   "cell_type": "code",
   "execution_count": null,
   "id": "9f317816-1e87-4411-bc96-6516530e6b71",
   "metadata": {},
   "outputs": [],
   "source": []
  },
  {
   "cell_type": "code",
   "execution_count": null,
   "id": "975304f1-398b-49ed-9501-5a8a0c57217b",
   "metadata": {},
   "outputs": [],
   "source": []
  },
  {
   "cell_type": "code",
   "execution_count": null,
   "id": "7f68dd1a-5b34-4fe3-b7e2-cc16ba88fe30",
   "metadata": {},
   "outputs": [],
   "source": []
  },
  {
   "cell_type": "code",
   "execution_count": null,
   "id": "5dfe6ad6-6320-4d7e-a65a-30a9e31e4088",
   "metadata": {},
   "outputs": [],
   "source": []
  }
 ],
 "metadata": {
  "kernelspec": {
   "display_name": "Python 3 (ipykernel)",
   "language": "python",
   "name": "python3"
  },
  "language_info": {
   "codemirror_mode": {
    "name": "ipython",
    "version": 3
   },
   "file_extension": ".py",
   "mimetype": "text/x-python",
   "name": "python",
   "nbconvert_exporter": "python",
   "pygments_lexer": "ipython3",
   "version": "3.10.8"
  }
 },
 "nbformat": 4,
 "nbformat_minor": 5
}
